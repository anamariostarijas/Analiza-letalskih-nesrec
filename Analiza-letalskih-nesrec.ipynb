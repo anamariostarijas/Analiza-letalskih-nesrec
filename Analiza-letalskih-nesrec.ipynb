{
 "cells": [
  {
   "cell_type": "markdown",
   "metadata": {},
   "source": [
    "# Analiza letalskih nesreč"
   ]
  },
  {
   "cell_type": "markdown",
   "metadata": {},
   "source": [
    "Pripravimo podatke za analizo."
   ]
  },
  {
   "cell_type": "code",
   "execution_count": 90,
   "metadata": {
    "collapsed": true
   },
   "outputs": [],
   "source": [
    "import pandas as pd\n",
    "from heapq import nlargest\n",
    "from operator import itemgetter\n",
    "%matplotlib inline"
   ]
  },
  {
   "cell_type": "code",
   "execution_count": 91,
   "metadata": {
    "collapsed": true
   },
   "outputs": [],
   "source": [
    "pd.options.display.max_rows = 10"
   ]
  },
  {
   "cell_type": "code",
   "execution_count": 92,
   "metadata": {
    "collapsed": true
   },
   "outputs": [],
   "source": [
    "letalske_nesrece = pd.read_csv('C:\\Analiza-letalskih-nesrec\\plane_crashes.csv')\n",
    "\n",
    "letalske_nesrece_brez_opisa = pd.read_csv('nesrece_brez_opisa.csv').drop('summary', 1)\n",
    "\n",
    "letalske_nesrece_brez_leta = pd.read_csv('nesrece_brez_leta.csv')"
   ]
  },
  {
   "cell_type": "markdown",
   "metadata": {},
   "source": [
    "Združimo tabele."
   ]
  },
  {
   "cell_type": "code",
   "execution_count": 93,
   "metadata": {
    "collapsed": true
   },
   "outputs": [],
   "source": [
    "nesrece = pd.merge(letalske_nesrece_brez_opisa, letalske_nesrece, how='left', on=['passengers', 'crew', 'fatalities', 'survivors'])\n",
    "\n",
    "nesrece = pd.merge(letalske_nesrece_brez_leta, nesrece, how='left', on=['passengers', 'crew', 'fatalities', 'survivors'])"
   ]
  },
  {
   "cell_type": "code",
   "execution_count": 94,
   "metadata": {},
   "outputs": [],
   "source": [
    "nesrece = nesrece.drop(['title_x', 'year_x', 'operator_x'], 1)"
   ]
  },
  {
   "cell_type": "code",
   "execution_count": 95,
   "metadata": {},
   "outputs": [
    {
     "data": {
      "text/html": [
       "<div>\n",
       "<style>\n",
       "    .dataframe thead tr:only-child th {\n",
       "        text-align: right;\n",
       "    }\n",
       "\n",
       "    .dataframe thead th {\n",
       "        text-align: left;\n",
       "    }\n",
       "\n",
       "    .dataframe tbody tr th {\n",
       "        vertical-align: top;\n",
       "    }\n",
       "</style>\n",
       "<table border=\"1\" class=\"dataframe\">\n",
       "  <thead>\n",
       "    <tr style=\"text-align: right;\">\n",
       "      <th></th>\n",
       "      <th>operator</th>\n",
       "      <th>passengers</th>\n",
       "      <th>crew</th>\n",
       "      <th>fatalities</th>\n",
       "      <th>survivors</th>\n",
       "      <th>title_y</th>\n",
       "      <th>year_y</th>\n",
       "      <th>summary</th>\n",
       "      <th>operator_y</th>\n",
       "    </tr>\n",
       "  </thead>\n",
       "  <tbody>\n",
       "    <tr>\n",
       "      <th>0</th>\n",
       "      <td>Caproni</td>\n",
       "      <td>12</td>\n",
       "      <td>2</td>\n",
       "      <td>14</td>\n",
       "      <td>0</td>\n",
       "      <td>1919 Verona Caproni Ca.48 crash</td>\n",
       "      <td>1919.0</td>\n",
       "      <td>Possible structural failure</td>\n",
       "      <td>Caproni</td>\n",
       "    </tr>\n",
       "    <tr>\n",
       "      <th>1</th>\n",
       "      <td>Caproni</td>\n",
       "      <td>12</td>\n",
       "      <td>2</td>\n",
       "      <td>14</td>\n",
       "      <td>0</td>\n",
       "      <td>1919 Verona Caproni Ca.48 crash</td>\n",
       "      <td>1919.0</td>\n",
       "      <td>Possible structural failure</td>\n",
       "      <td>Caproni</td>\n",
       "    </tr>\n",
       "    <tr>\n",
       "      <th>2</th>\n",
       "      <td>Handley Page Transport</td>\n",
       "      <td>6</td>\n",
       "      <td>2</td>\n",
       "      <td>4</td>\n",
       "      <td>4</td>\n",
       "      <td>1920 Golders Green Handley Page O/400 crash</td>\n",
       "      <td>1920.0</td>\n",
       "      <td>NaN</td>\n",
       "      <td>Handley Page Transport</td>\n",
       "    </tr>\n",
       "    <tr>\n",
       "      <th>3</th>\n",
       "      <td>Daimler Hire Limited (page does not exist)</td>\n",
       "      <td>3</td>\n",
       "      <td>2</td>\n",
       "      <td>5</td>\n",
       "      <td>0</td>\n",
       "      <td>1923 Daimler Airway de Havilland DH.34 crash</td>\n",
       "      <td>1923.0</td>\n",
       "      <td>Pilot error, stall</td>\n",
       "      <td>Daimler Airway</td>\n",
       "    </tr>\n",
       "    <tr>\n",
       "      <th>4</th>\n",
       "      <td>Daimler Hire Limited (page does not exist)</td>\n",
       "      <td>3</td>\n",
       "      <td>2</td>\n",
       "      <td>5</td>\n",
       "      <td>0</td>\n",
       "      <td>1923 Daimler Airway de Havilland DH.34 crash</td>\n",
       "      <td>1923.0</td>\n",
       "      <td>Pilot error, stall</td>\n",
       "      <td>Daimler Airway</td>\n",
       "    </tr>\n",
       "    <tr>\n",
       "      <th>...</th>\n",
       "      <td>...</td>\n",
       "      <td>...</td>\n",
       "      <td>...</td>\n",
       "      <td>...</td>\n",
       "      <td>...</td>\n",
       "      <td>...</td>\n",
       "      <td>...</td>\n",
       "      <td>...</td>\n",
       "      <td>...</td>\n",
       "    </tr>\n",
       "    <tr>\n",
       "      <th>916</th>\n",
       "      <td>Air France</td>\n",
       "      <td>497</td>\n",
       "      <td>24</td>\n",
       "      <td>0</td>\n",
       "      <td>521</td>\n",
       "      <td>Air France Flight 66</td>\n",
       "      <td>2017.0</td>\n",
       "      <td>NaN</td>\n",
       "      <td>Air France</td>\n",
       "    </tr>\n",
       "    <tr>\n",
       "      <th>917</th>\n",
       "      <td>Air France</td>\n",
       "      <td>497</td>\n",
       "      <td>24</td>\n",
       "      <td>0</td>\n",
       "      <td>521</td>\n",
       "      <td>Air France Flight 66</td>\n",
       "      <td>2017.0</td>\n",
       "      <td>NaN</td>\n",
       "      <td>Air France</td>\n",
       "    </tr>\n",
       "    <tr>\n",
       "      <th>918</th>\n",
       "      <td>Air France</td>\n",
       "      <td>497</td>\n",
       "      <td>24</td>\n",
       "      <td>0</td>\n",
       "      <td>521</td>\n",
       "      <td>Air France Flight 66</td>\n",
       "      <td>2017.0</td>\n",
       "      <td>NaN</td>\n",
       "      <td>Air France</td>\n",
       "    </tr>\n",
       "    <tr>\n",
       "      <th>919</th>\n",
       "      <td>Air France</td>\n",
       "      <td>497</td>\n",
       "      <td>24</td>\n",
       "      <td>0</td>\n",
       "      <td>521</td>\n",
       "      <td>Air France Flight 66</td>\n",
       "      <td>2017.0</td>\n",
       "      <td>NaN</td>\n",
       "      <td>Air France</td>\n",
       "    </tr>\n",
       "    <tr>\n",
       "      <th>920</th>\n",
       "      <td>Air France</td>\n",
       "      <td>497</td>\n",
       "      <td>24</td>\n",
       "      <td>0</td>\n",
       "      <td>521</td>\n",
       "      <td>Air France Flight 66</td>\n",
       "      <td>2017.0</td>\n",
       "      <td>NaN</td>\n",
       "      <td>Air France</td>\n",
       "    </tr>\n",
       "  </tbody>\n",
       "</table>\n",
       "<p>921 rows × 9 columns</p>\n",
       "</div>"
      ],
      "text/plain": [
       "                                       operator  passengers  crew  fatalities  \\\n",
       "0                                       Caproni          12     2          14   \n",
       "1                                       Caproni          12     2          14   \n",
       "2                        Handley Page Transport           6     2           4   \n",
       "3    Daimler Hire Limited (page does not exist)           3     2           5   \n",
       "4    Daimler Hire Limited (page does not exist)           3     2           5   \n",
       "..                                          ...         ...   ...         ...   \n",
       "916                                  Air France         497    24           0   \n",
       "917                                  Air France         497    24           0   \n",
       "918                                  Air France         497    24           0   \n",
       "919                                  Air France         497    24           0   \n",
       "920                                  Air France         497    24           0   \n",
       "\n",
       "     survivors                                       title_y  year_y  \\\n",
       "0            0               1919 Verona Caproni Ca.48 crash  1919.0   \n",
       "1            0               1919 Verona Caproni Ca.48 crash  1919.0   \n",
       "2            4   1920 Golders Green Handley Page O/400 crash  1920.0   \n",
       "3            0  1923 Daimler Airway de Havilland DH.34 crash  1923.0   \n",
       "4            0  1923 Daimler Airway de Havilland DH.34 crash  1923.0   \n",
       "..         ...                                           ...     ...   \n",
       "916        521                          Air France Flight 66  2017.0   \n",
       "917        521                          Air France Flight 66  2017.0   \n",
       "918        521                          Air France Flight 66  2017.0   \n",
       "919        521                          Air France Flight 66  2017.0   \n",
       "920        521                          Air France Flight 66  2017.0   \n",
       "\n",
       "                         summary              operator_y  \n",
       "0    Possible structural failure                 Caproni  \n",
       "1    Possible structural failure                 Caproni  \n",
       "2                            NaN  Handley Page Transport  \n",
       "3             Pilot error, stall          Daimler Airway  \n",
       "4             Pilot error, stall          Daimler Airway  \n",
       "..                           ...                     ...  \n",
       "916                          NaN              Air France  \n",
       "917                          NaN              Air France  \n",
       "918                          NaN              Air France  \n",
       "919                          NaN              Air France  \n",
       "920                          NaN              Air France  \n",
       "\n",
       "[921 rows x 9 columns]"
      ]
     },
     "execution_count": 95,
     "metadata": {},
     "output_type": "execute_result"
    }
   ],
   "source": [
    "nesrece"
   ]
  },
  {
   "cell_type": "code",
   "execution_count": 96,
   "metadata": {
    "collapsed": true
   },
   "outputs": [],
   "source": [
    "nesrece = nesrece.rename(columns = {'title_y':'ime', 'year_y':'leto', 'operator_y':'letalska_druzba', 'passengers':'potniki', 'crew':'posadka', 'fatalities':'zrtve', 'survivors':'preziveli', 'summary':'vzrok'}).drop(['operator'], 1)"
   ]
  },
  {
   "cell_type": "code",
   "execution_count": 97,
   "metadata": {},
   "outputs": [],
   "source": [
    "nesrece = nesrece[['ime', 'leto', 'letalska_druzba', 'vzrok', 'potniki', 'posadka', 'zrtve', 'preziveli']]"
   ]
  },
  {
   "cell_type": "code",
   "execution_count": 98,
   "metadata": {},
   "outputs": [
    {
     "data": {
      "text/html": [
       "<div>\n",
       "<style>\n",
       "    .dataframe thead tr:only-child th {\n",
       "        text-align: right;\n",
       "    }\n",
       "\n",
       "    .dataframe thead th {\n",
       "        text-align: left;\n",
       "    }\n",
       "\n",
       "    .dataframe tbody tr th {\n",
       "        vertical-align: top;\n",
       "    }\n",
       "</style>\n",
       "<table border=\"1\" class=\"dataframe\">\n",
       "  <thead>\n",
       "    <tr style=\"text-align: right;\">\n",
       "      <th></th>\n",
       "      <th>ime</th>\n",
       "      <th>leto</th>\n",
       "      <th>letalska_druzba</th>\n",
       "      <th>vzrok</th>\n",
       "      <th>potniki</th>\n",
       "      <th>posadka</th>\n",
       "      <th>zrtve</th>\n",
       "      <th>preziveli</th>\n",
       "    </tr>\n",
       "  </thead>\n",
       "  <tbody>\n",
       "    <tr>\n",
       "      <th>0</th>\n",
       "      <td>1919 Verona Caproni Ca.48 crash</td>\n",
       "      <td>1919.0</td>\n",
       "      <td>Caproni</td>\n",
       "      <td>Possible structural failure</td>\n",
       "      <td>12</td>\n",
       "      <td>2</td>\n",
       "      <td>14</td>\n",
       "      <td>0</td>\n",
       "    </tr>\n",
       "    <tr>\n",
       "      <th>1</th>\n",
       "      <td>1919 Verona Caproni Ca.48 crash</td>\n",
       "      <td>1919.0</td>\n",
       "      <td>Caproni</td>\n",
       "      <td>Possible structural failure</td>\n",
       "      <td>12</td>\n",
       "      <td>2</td>\n",
       "      <td>14</td>\n",
       "      <td>0</td>\n",
       "    </tr>\n",
       "    <tr>\n",
       "      <th>2</th>\n",
       "      <td>1920 Golders Green Handley Page O/400 crash</td>\n",
       "      <td>1920.0</td>\n",
       "      <td>Handley Page Transport</td>\n",
       "      <td>NaN</td>\n",
       "      <td>6</td>\n",
       "      <td>2</td>\n",
       "      <td>4</td>\n",
       "      <td>4</td>\n",
       "    </tr>\n",
       "    <tr>\n",
       "      <th>3</th>\n",
       "      <td>1923 Daimler Airway de Havilland DH.34 crash</td>\n",
       "      <td>1923.0</td>\n",
       "      <td>Daimler Airway</td>\n",
       "      <td>Pilot error, stall</td>\n",
       "      <td>3</td>\n",
       "      <td>2</td>\n",
       "      <td>5</td>\n",
       "      <td>0</td>\n",
       "    </tr>\n",
       "    <tr>\n",
       "      <th>4</th>\n",
       "      <td>1923 Daimler Airway de Havilland DH.34 crash</td>\n",
       "      <td>1923.0</td>\n",
       "      <td>Daimler Airway</td>\n",
       "      <td>Pilot error, stall</td>\n",
       "      <td>3</td>\n",
       "      <td>2</td>\n",
       "      <td>5</td>\n",
       "      <td>0</td>\n",
       "    </tr>\n",
       "    <tr>\n",
       "      <th>...</th>\n",
       "      <td>...</td>\n",
       "      <td>...</td>\n",
       "      <td>...</td>\n",
       "      <td>...</td>\n",
       "      <td>...</td>\n",
       "      <td>...</td>\n",
       "      <td>...</td>\n",
       "      <td>...</td>\n",
       "    </tr>\n",
       "    <tr>\n",
       "      <th>916</th>\n",
       "      <td>Air France Flight 66</td>\n",
       "      <td>2017.0</td>\n",
       "      <td>Air France</td>\n",
       "      <td>NaN</td>\n",
       "      <td>497</td>\n",
       "      <td>24</td>\n",
       "      <td>0</td>\n",
       "      <td>521</td>\n",
       "    </tr>\n",
       "    <tr>\n",
       "      <th>917</th>\n",
       "      <td>Air France Flight 66</td>\n",
       "      <td>2017.0</td>\n",
       "      <td>Air France</td>\n",
       "      <td>NaN</td>\n",
       "      <td>497</td>\n",
       "      <td>24</td>\n",
       "      <td>0</td>\n",
       "      <td>521</td>\n",
       "    </tr>\n",
       "    <tr>\n",
       "      <th>918</th>\n",
       "      <td>Air France Flight 66</td>\n",
       "      <td>2017.0</td>\n",
       "      <td>Air France</td>\n",
       "      <td>NaN</td>\n",
       "      <td>497</td>\n",
       "      <td>24</td>\n",
       "      <td>0</td>\n",
       "      <td>521</td>\n",
       "    </tr>\n",
       "    <tr>\n",
       "      <th>919</th>\n",
       "      <td>Air France Flight 66</td>\n",
       "      <td>2017.0</td>\n",
       "      <td>Air France</td>\n",
       "      <td>NaN</td>\n",
       "      <td>497</td>\n",
       "      <td>24</td>\n",
       "      <td>0</td>\n",
       "      <td>521</td>\n",
       "    </tr>\n",
       "    <tr>\n",
       "      <th>920</th>\n",
       "      <td>Air France Flight 66</td>\n",
       "      <td>2017.0</td>\n",
       "      <td>Air France</td>\n",
       "      <td>NaN</td>\n",
       "      <td>497</td>\n",
       "      <td>24</td>\n",
       "      <td>0</td>\n",
       "      <td>521</td>\n",
       "    </tr>\n",
       "  </tbody>\n",
       "</table>\n",
       "<p>921 rows × 8 columns</p>\n",
       "</div>"
      ],
      "text/plain": [
       "                                              ime    leto  \\\n",
       "0                 1919 Verona Caproni Ca.48 crash  1919.0   \n",
       "1                 1919 Verona Caproni Ca.48 crash  1919.0   \n",
       "2     1920 Golders Green Handley Page O/400 crash  1920.0   \n",
       "3    1923 Daimler Airway de Havilland DH.34 crash  1923.0   \n",
       "4    1923 Daimler Airway de Havilland DH.34 crash  1923.0   \n",
       "..                                            ...     ...   \n",
       "916                          Air France Flight 66  2017.0   \n",
       "917                          Air France Flight 66  2017.0   \n",
       "918                          Air France Flight 66  2017.0   \n",
       "919                          Air France Flight 66  2017.0   \n",
       "920                          Air France Flight 66  2017.0   \n",
       "\n",
       "            letalska_druzba                        vzrok  potniki  posadka  \\\n",
       "0                   Caproni  Possible structural failure       12        2   \n",
       "1                   Caproni  Possible structural failure       12        2   \n",
       "2    Handley Page Transport                          NaN        6        2   \n",
       "3            Daimler Airway           Pilot error, stall        3        2   \n",
       "4            Daimler Airway           Pilot error, stall        3        2   \n",
       "..                      ...                          ...      ...      ...   \n",
       "916              Air France                          NaN      497       24   \n",
       "917              Air France                          NaN      497       24   \n",
       "918              Air France                          NaN      497       24   \n",
       "919              Air France                          NaN      497       24   \n",
       "920              Air France                          NaN      497       24   \n",
       "\n",
       "     zrtve  preziveli  \n",
       "0       14          0  \n",
       "1       14          0  \n",
       "2        4          4  \n",
       "3        5          0  \n",
       "4        5          0  \n",
       "..     ...        ...  \n",
       "916      0        521  \n",
       "917      0        521  \n",
       "918      0        521  \n",
       "919      0        521  \n",
       "920      0        521  \n",
       "\n",
       "[921 rows x 8 columns]"
      ]
     },
     "execution_count": 98,
     "metadata": {},
     "output_type": "execute_result"
    }
   ],
   "source": [
    "nesrece"
   ]
  },
  {
   "cell_type": "markdown",
   "metadata": {},
   "source": [
    "Razporedimo nesreče naraščajoče po letu."
   ]
  },
  {
   "cell_type": "code",
   "execution_count": 99,
   "metadata": {
    "scrolled": true
   },
   "outputs": [
    {
     "data": {
      "text/html": [
       "<div>\n",
       "<style>\n",
       "    .dataframe thead tr:only-child th {\n",
       "        text-align: right;\n",
       "    }\n",
       "\n",
       "    .dataframe thead th {\n",
       "        text-align: left;\n",
       "    }\n",
       "\n",
       "    .dataframe tbody tr th {\n",
       "        vertical-align: top;\n",
       "    }\n",
       "</style>\n",
       "<table border=\"1\" class=\"dataframe\">\n",
       "  <thead>\n",
       "    <tr style=\"text-align: right;\">\n",
       "      <th></th>\n",
       "      <th>ime</th>\n",
       "      <th>leto</th>\n",
       "      <th>letalska_druzba</th>\n",
       "      <th>vzrok</th>\n",
       "      <th>potniki</th>\n",
       "      <th>posadka</th>\n",
       "      <th>zrtve</th>\n",
       "      <th>preziveli</th>\n",
       "    </tr>\n",
       "  </thead>\n",
       "  <tbody>\n",
       "    <tr>\n",
       "      <th>0</th>\n",
       "      <td>1919 Verona Caproni Ca.48 crash</td>\n",
       "      <td>1919.0</td>\n",
       "      <td>Caproni</td>\n",
       "      <td>Possible structural failure</td>\n",
       "      <td>12</td>\n",
       "      <td>2</td>\n",
       "      <td>14</td>\n",
       "      <td>0</td>\n",
       "    </tr>\n",
       "    <tr>\n",
       "      <th>606</th>\n",
       "      <td>1919 Verona Caproni Ca.48 crash</td>\n",
       "      <td>1919.0</td>\n",
       "      <td>Caproni</td>\n",
       "      <td>Possible structural failure</td>\n",
       "      <td>12</td>\n",
       "      <td>2</td>\n",
       "      <td>14</td>\n",
       "      <td>0</td>\n",
       "    </tr>\n",
       "    <tr>\n",
       "      <th>607</th>\n",
       "      <td>1919 Verona Caproni Ca.48 crash</td>\n",
       "      <td>1919.0</td>\n",
       "      <td>Caproni</td>\n",
       "      <td>Possible structural failure</td>\n",
       "      <td>12</td>\n",
       "      <td>2</td>\n",
       "      <td>14</td>\n",
       "      <td>0</td>\n",
       "    </tr>\n",
       "    <tr>\n",
       "      <th>733</th>\n",
       "      <td>1919 Verona Caproni Ca.48 crash</td>\n",
       "      <td>1919.0</td>\n",
       "      <td>Caproni</td>\n",
       "      <td>Possible structural failure</td>\n",
       "      <td>12</td>\n",
       "      <td>2</td>\n",
       "      <td>14</td>\n",
       "      <td>0</td>\n",
       "    </tr>\n",
       "    <tr>\n",
       "      <th>811</th>\n",
       "      <td>1919 Verona Caproni Ca.48 crash</td>\n",
       "      <td>1919.0</td>\n",
       "      <td>Caproni</td>\n",
       "      <td>Possible structural failure</td>\n",
       "      <td>12</td>\n",
       "      <td>2</td>\n",
       "      <td>14</td>\n",
       "      <td>0</td>\n",
       "    </tr>\n",
       "    <tr>\n",
       "      <th>...</th>\n",
       "      <td>...</td>\n",
       "      <td>...</td>\n",
       "      <td>...</td>\n",
       "      <td>...</td>\n",
       "      <td>...</td>\n",
       "      <td>...</td>\n",
       "      <td>...</td>\n",
       "      <td>...</td>\n",
       "    </tr>\n",
       "    <tr>\n",
       "      <th>877</th>\n",
       "      <td>NaN</td>\n",
       "      <td>NaN</td>\n",
       "      <td>NaN</td>\n",
       "      <td>NaN</td>\n",
       "      <td>74</td>\n",
       "      <td>8</td>\n",
       "      <td>0</td>\n",
       "      <td>82</td>\n",
       "    </tr>\n",
       "    <tr>\n",
       "      <th>880</th>\n",
       "      <td>NaN</td>\n",
       "      <td>NaN</td>\n",
       "      <td>NaN</td>\n",
       "      <td>NaN</td>\n",
       "      <td>104</td>\n",
       "      <td>8</td>\n",
       "      <td>0</td>\n",
       "      <td>112</td>\n",
       "    </tr>\n",
       "    <tr>\n",
       "      <th>898</th>\n",
       "      <td>NaN</td>\n",
       "      <td>NaN</td>\n",
       "      <td>NaN</td>\n",
       "      <td>NaN</td>\n",
       "      <td>49</td>\n",
       "      <td>7</td>\n",
       "      <td>0</td>\n",
       "      <td>56</td>\n",
       "    </tr>\n",
       "    <tr>\n",
       "      <th>908</th>\n",
       "      <td>NaN</td>\n",
       "      <td>NaN</td>\n",
       "      <td>NaN</td>\n",
       "      <td>NaN</td>\n",
       "      <td>0</td>\n",
       "      <td>6</td>\n",
       "      <td>5</td>\n",
       "      <td>1</td>\n",
       "    </tr>\n",
       "    <tr>\n",
       "      <th>909</th>\n",
       "      <td>NaN</td>\n",
       "      <td>NaN</td>\n",
       "      <td>NaN</td>\n",
       "      <td>NaN</td>\n",
       "      <td>111</td>\n",
       "      <td>7</td>\n",
       "      <td>0</td>\n",
       "      <td>118</td>\n",
       "    </tr>\n",
       "  </tbody>\n",
       "</table>\n",
       "<p>921 rows × 8 columns</p>\n",
       "</div>"
      ],
      "text/plain": [
       "                                 ime    leto letalska_druzba  \\\n",
       "0    1919 Verona Caproni Ca.48 crash  1919.0         Caproni   \n",
       "606  1919 Verona Caproni Ca.48 crash  1919.0         Caproni   \n",
       "607  1919 Verona Caproni Ca.48 crash  1919.0         Caproni   \n",
       "733  1919 Verona Caproni Ca.48 crash  1919.0         Caproni   \n",
       "811  1919 Verona Caproni Ca.48 crash  1919.0         Caproni   \n",
       "..                               ...     ...             ...   \n",
       "877                              NaN     NaN             NaN   \n",
       "880                              NaN     NaN             NaN   \n",
       "898                              NaN     NaN             NaN   \n",
       "908                              NaN     NaN             NaN   \n",
       "909                              NaN     NaN             NaN   \n",
       "\n",
       "                           vzrok  potniki  posadka  zrtve  preziveli  \n",
       "0    Possible structural failure       12        2     14          0  \n",
       "606  Possible structural failure       12        2     14          0  \n",
       "607  Possible structural failure       12        2     14          0  \n",
       "733  Possible structural failure       12        2     14          0  \n",
       "811  Possible structural failure       12        2     14          0  \n",
       "..                           ...      ...      ...    ...        ...  \n",
       "877                          NaN       74        8      0         82  \n",
       "880                          NaN      104        8      0        112  \n",
       "898                          NaN       49        7      0         56  \n",
       "908                          NaN        0        6      5          1  \n",
       "909                          NaN      111        7      0        118  \n",
       "\n",
       "[921 rows x 8 columns]"
      ]
     },
     "execution_count": 99,
     "metadata": {},
     "output_type": "execute_result"
    }
   ],
   "source": [
    "nesrece.sort_values('leto')"
   ]
  },
  {
   "cell_type": "markdown",
   "metadata": {},
   "source": [
    "## Komentar"
   ]
  },
  {
   "cell_type": "markdown",
   "metadata": {},
   "source": [
    "Podatke za vsako letalsko nesrečo sem pridobila iz različnih strani na Wikipediji, ker so bili ti podani na različne načine, je bilo težko napisati regularne izraze, ki bi delovali na vsaki strani. Mnogo podatkov se je izgubilo, zato sem problematične pobirala posebej in jih nadknadno dodala v tabelo, da bi te izgube čim manj vplivale na analizo."
   ]
  },
  {
   "cell_type": "markdown",
   "metadata": {},
   "source": [
    "## Analiza podatkov"
   ]
  },
  {
   "cell_type": "markdown",
   "metadata": {},
   "source": [
    "Pri analizi me bo zanimalo, koliko je bilo letalskih nesreč, se števila le-teh večajo z leti, \n",
    "katera je letalska družba z največimi nesrečami in kateri so najpogostejši vzroki nesreče.\n",
    "\n",
    "Pri analizi po letih se bo veliko podatkov izgubilo, saj nisem uspela iz vseh letalskih nesreč pridobiti tega prodatka.\n",
    "\n",
    "Od leta 1919 sem našla 921 letalskih nesreč.\n",
    "Poglejmo, kolikšno je celotno število žrtev v teh letalskih nesrečah. "
   ]
  },
  {
   "cell_type": "code",
   "execution_count": 100,
   "metadata": {
    "collapsed": true
   },
   "outputs": [],
   "source": [
    "st_mrtvih = sum(nesrece['zrtve'])\n",
    "st_potnikov = sum(nesrece['potniki']) + sum(nesrece['posadka'])\n",
    "st_prezivelih = sum(nesrece['preziveli'])"
   ]
  },
  {
   "cell_type": "code",
   "execution_count": 101,
   "metadata": {},
   "outputs": [
    {
     "data": {
      "text/plain": [
       "(41423, 34581)"
      ]
     },
     "execution_count": 101,
     "metadata": {},
     "output_type": "execute_result"
    }
   ],
   "source": [
    "st_mrtvih, st_prezivelih"
   ]
  },
  {
   "cell_type": "markdown",
   "metadata": {},
   "source": [
    "Po teh številih vidimo, da je število mrtvih v letalskih nesrečah večje kot število preživelih. \n",
    "Po tem predvidevamo, da je več letalskih nesreč, kjer preživi manj kot pol udeleženih. Z izračunom preverimo hipotezo."
   ]
  },
  {
   "cell_type": "code",
   "execution_count": 102,
   "metadata": {},
   "outputs": [
    {
     "data": {
      "text/html": [
       "<div>\n",
       "<style>\n",
       "    .dataframe thead tr:only-child th {\n",
       "        text-align: right;\n",
       "    }\n",
       "\n",
       "    .dataframe thead th {\n",
       "        text-align: left;\n",
       "    }\n",
       "\n",
       "    .dataframe tbody tr th {\n",
       "        vertical-align: top;\n",
       "    }\n",
       "</style>\n",
       "<table border=\"1\" class=\"dataframe\">\n",
       "  <thead>\n",
       "    <tr style=\"text-align: right;\">\n",
       "      <th></th>\n",
       "      <th>ime</th>\n",
       "      <th>leto</th>\n",
       "      <th>letalska_druzba</th>\n",
       "      <th>vzrok</th>\n",
       "      <th>potniki</th>\n",
       "      <th>posadka</th>\n",
       "      <th>zrtve</th>\n",
       "      <th>preziveli</th>\n",
       "    </tr>\n",
       "  </thead>\n",
       "  <tbody>\n",
       "    <tr>\n",
       "      <th>0</th>\n",
       "      <td>1919 Verona Caproni Ca.48 crash</td>\n",
       "      <td>1919.0</td>\n",
       "      <td>Caproni</td>\n",
       "      <td>Possible structural failure</td>\n",
       "      <td>12</td>\n",
       "      <td>2</td>\n",
       "      <td>14</td>\n",
       "      <td>0</td>\n",
       "    </tr>\n",
       "    <tr>\n",
       "      <th>1</th>\n",
       "      <td>1919 Verona Caproni Ca.48 crash</td>\n",
       "      <td>1919.0</td>\n",
       "      <td>Caproni</td>\n",
       "      <td>Possible structural failure</td>\n",
       "      <td>12</td>\n",
       "      <td>2</td>\n",
       "      <td>14</td>\n",
       "      <td>0</td>\n",
       "    </tr>\n",
       "    <tr>\n",
       "      <th>2</th>\n",
       "      <td>1920 Golders Green Handley Page O/400 crash</td>\n",
       "      <td>1920.0</td>\n",
       "      <td>Handley Page Transport</td>\n",
       "      <td>NaN</td>\n",
       "      <td>6</td>\n",
       "      <td>2</td>\n",
       "      <td>4</td>\n",
       "      <td>4</td>\n",
       "    </tr>\n",
       "    <tr>\n",
       "      <th>3</th>\n",
       "      <td>1923 Daimler Airway de Havilland DH.34 crash</td>\n",
       "      <td>1923.0</td>\n",
       "      <td>Daimler Airway</td>\n",
       "      <td>Pilot error, stall</td>\n",
       "      <td>3</td>\n",
       "      <td>2</td>\n",
       "      <td>5</td>\n",
       "      <td>0</td>\n",
       "    </tr>\n",
       "    <tr>\n",
       "      <th>4</th>\n",
       "      <td>1923 Daimler Airway de Havilland DH.34 crash</td>\n",
       "      <td>1923.0</td>\n",
       "      <td>Daimler Airway</td>\n",
       "      <td>Pilot error, stall</td>\n",
       "      <td>3</td>\n",
       "      <td>2</td>\n",
       "      <td>5</td>\n",
       "      <td>0</td>\n",
       "    </tr>\n",
       "    <tr>\n",
       "      <th>...</th>\n",
       "      <td>...</td>\n",
       "      <td>...</td>\n",
       "      <td>...</td>\n",
       "      <td>...</td>\n",
       "      <td>...</td>\n",
       "      <td>...</td>\n",
       "      <td>...</td>\n",
       "      <td>...</td>\n",
       "    </tr>\n",
       "    <tr>\n",
       "      <th>899</th>\n",
       "      <td>2016 Sunbird Aviation crash</td>\n",
       "      <td>2016.0</td>\n",
       "      <td>Aircraft registration</td>\n",
       "      <td>Improper loading which led to a stall</td>\n",
       "      <td>11</td>\n",
       "      <td>1</td>\n",
       "      <td>12</td>\n",
       "      <td>0</td>\n",
       "    </tr>\n",
       "    <tr>\n",
       "      <th>900</th>\n",
       "      <td>EgyptAir Flight 804</td>\n",
       "      <td>2016.0</td>\n",
       "      <td>EgyptAir</td>\n",
       "      <td>Crashed, in-flight fire, under investigation</td>\n",
       "      <td>56</td>\n",
       "      <td>10</td>\n",
       "      <td>66</td>\n",
       "      <td>0</td>\n",
       "    </tr>\n",
       "    <tr>\n",
       "      <th>906</th>\n",
       "      <td>LaMia Flight 2933</td>\n",
       "      <td>2016.0</td>\n",
       "      <td>LaMia</td>\n",
       "      <td>NaN</td>\n",
       "      <td>73</td>\n",
       "      <td>4</td>\n",
       "      <td>71</td>\n",
       "      <td>6</td>\n",
       "    </tr>\n",
       "    <tr>\n",
       "      <th>907</th>\n",
       "      <td>Pakistan International Airlines Flight 661</td>\n",
       "      <td>2016.0</td>\n",
       "      <td>Pakistan International Airlines</td>\n",
       "      <td>Engine failure issues, investigation ongoing</td>\n",
       "      <td>42</td>\n",
       "      <td>5</td>\n",
       "      <td>47</td>\n",
       "      <td>0</td>\n",
       "    </tr>\n",
       "    <tr>\n",
       "      <th>908</th>\n",
       "      <td>NaN</td>\n",
       "      <td>NaN</td>\n",
       "      <td>NaN</td>\n",
       "      <td>NaN</td>\n",
       "      <td>0</td>\n",
       "      <td>6</td>\n",
       "      <td>5</td>\n",
       "      <td>1</td>\n",
       "    </tr>\n",
       "  </tbody>\n",
       "</table>\n",
       "<p>672 rows × 8 columns</p>\n",
       "</div>"
      ],
      "text/plain": [
       "                                              ime    leto  \\\n",
       "0                 1919 Verona Caproni Ca.48 crash  1919.0   \n",
       "1                 1919 Verona Caproni Ca.48 crash  1919.0   \n",
       "2     1920 Golders Green Handley Page O/400 crash  1920.0   \n",
       "3    1923 Daimler Airway de Havilland DH.34 crash  1923.0   \n",
       "4    1923 Daimler Airway de Havilland DH.34 crash  1923.0   \n",
       "..                                            ...     ...   \n",
       "899                   2016 Sunbird Aviation crash  2016.0   \n",
       "900                           EgyptAir Flight 804  2016.0   \n",
       "906                             LaMia Flight 2933  2016.0   \n",
       "907    Pakistan International Airlines Flight 661  2016.0   \n",
       "908                                           NaN     NaN   \n",
       "\n",
       "                     letalska_druzba  \\\n",
       "0                            Caproni   \n",
       "1                            Caproni   \n",
       "2             Handley Page Transport   \n",
       "3                     Daimler Airway   \n",
       "4                     Daimler Airway   \n",
       "..                               ...   \n",
       "899            Aircraft registration   \n",
       "900                         EgyptAir   \n",
       "906                            LaMia   \n",
       "907  Pakistan International Airlines   \n",
       "908                              NaN   \n",
       "\n",
       "                                            vzrok  potniki  posadka  zrtve  \\\n",
       "0                     Possible structural failure       12        2     14   \n",
       "1                     Possible structural failure       12        2     14   \n",
       "2                                             NaN        6        2      4   \n",
       "3                              Pilot error, stall        3        2      5   \n",
       "4                              Pilot error, stall        3        2      5   \n",
       "..                                            ...      ...      ...    ...   \n",
       "899         Improper loading which led to a stall       11        1     12   \n",
       "900  Crashed, in-flight fire, under investigation       56       10     66   \n",
       "906                                           NaN       73        4     71   \n",
       "907  Engine failure issues, investigation ongoing       42        5     47   \n",
       "908                                           NaN        0        6      5   \n",
       "\n",
       "     preziveli  \n",
       "0            0  \n",
       "1            0  \n",
       "2            4  \n",
       "3            0  \n",
       "4            0  \n",
       "..         ...  \n",
       "899          0  \n",
       "900          0  \n",
       "906          6  \n",
       "907          0  \n",
       "908          1  \n",
       "\n",
       "[672 rows x 8 columns]"
      ]
     },
     "execution_count": 102,
     "metadata": {},
     "output_type": "execute_result"
    }
   ],
   "source": [
    "nesrece[(nesrece.zrtve)/(nesrece.potniki + nesrece.posadka) >= 0.5]"
   ]
  },
  {
   "cell_type": "markdown",
   "metadata": {},
   "source": [
    "Nesreč, kjer je preživelo manj kot pol udeležencev, je 672, kar je večina letalskih nesreč. \n",
    "\n",
    "Poglejmo povprečno število mrtvih v letalskih nesrečah na leto in če to število narašča z leti."
   ]
  },
  {
   "cell_type": "code",
   "execution_count": 103,
   "metadata": {
    "collapsed": true
   },
   "outputs": [],
   "source": [
    "nesrece_po_letih = nesrece.groupby('leto')\n",
    "#povprečno število žrtev vsako leto\n",
    "st_zrtev_na_leto = nesrece_po_letih['zrtve'].mean()\n",
    "#število nesreč na leto\n",
    "st_nesrec_na_leto = nesrece_po_letih.size()"
   ]
  },
  {
   "cell_type": "code",
   "execution_count": 104,
   "metadata": {},
   "outputs": [
    {
     "data": {
      "text/plain": [
       "520"
      ]
     },
     "execution_count": 104,
     "metadata": {},
     "output_type": "execute_result"
    }
   ],
   "source": [
    "max(nesrece['zrtve'])"
   ]
  },
  {
   "cell_type": "markdown",
   "metadata": {},
   "source": [
    "Največje število mrtivih v eni letalski nesreči je bilo 520."
   ]
  },
  {
   "cell_type": "code",
   "execution_count": 105,
   "metadata": {},
   "outputs": [
    {
     "data": {
      "text/plain": [
       "leto\n",
       "1919.0     8\n",
       "1920.0     1\n",
       "1923.0    11\n",
       "1933.0     1\n",
       "1934.0     3\n",
       "          ..\n",
       "2013.0     2\n",
       "2014.0     3\n",
       "2015.0    19\n",
       "2016.0    20\n",
       "2017.0    11\n",
       "Length: 70, dtype: int64"
      ]
     },
     "execution_count": 105,
     "metadata": {},
     "output_type": "execute_result"
    }
   ],
   "source": [
    "st_nesrec_na_leto"
   ]
  },
  {
   "cell_type": "code",
   "execution_count": 106,
   "metadata": {},
   "outputs": [
    {
     "data": {
      "text/plain": [
       "<matplotlib.axes._subplots.AxesSubplot at 0xbabedd8>"
      ]
     },
     "execution_count": 106,
     "metadata": {},
     "output_type": "execute_result"
    },
    {
     "data": {
      "image/png": "[encoded data removed]",
      "text/plain": [
       "<matplotlib.figure.Figure at 0xbab9898>"
      ]
     },
     "metadata": {},
     "output_type": "display_data"
    }
   ],
   "source": [
    "pd.DataFrame(st_zrtev_na_leto/st_nesrec_na_leto).plot()"
   ]
  },
  {
   "cell_type": "markdown",
   "metadata": {},
   "source": [
    "Graf prikazuje povprečno število mrtvih na eno letalsko nesrečo v odvisnosti od leta. Graf močno odstopa okoli leta 1985.\n",
    "Poglejmo še število letalskih nesreč na leto."
   ]
  },
  {
   "cell_type": "code",
   "execution_count": 107,
   "metadata": {},
   "outputs": [
    {
     "data": {
      "text/plain": [
       "<matplotlib.axes._subplots.AxesSubplot at 0xbab94a8>"
      ]
     },
     "execution_count": 107,
     "metadata": {},
     "output_type": "execute_result"
    },
    {
     "data": {
      "image/png": "[encoded data removed]",
      "text/plain": [
       "<matplotlib.figure.Figure at 0xbb07780>"
      ]
     },
     "metadata": {},
     "output_type": "display_data"
    }
   ],
   "source": [
    "st_nesrec_na_leto.plot(title = 'stevilo letalskih nesrec na leto')"
   ]
  },
  {
   "cell_type": "markdown",
   "metadata": {},
   "source": [
    "Iz tega grafa lahko vidimo, da število letalskih nesreč na leto narašča, kar je lepše razvidno iz grafa, razdeljenega na petletke. To ne pomeni, da so letala postala bolj nezanesljivo prevozno sredstvo, saj se tudi število letov na leto verjetno veča, ampak mi tega podatka ni uspelo najti."
   ]
  },
  {
   "cell_type": "code",
   "execution_count": 108,
   "metadata": {
    "collapsed": true
   },
   "outputs": [],
   "source": [
    "nesrece['petletka'] = 5 * (nesrece.leto // 5)"
   ]
  },
  {
   "cell_type": "code",
   "execution_count": 109,
   "metadata": {
    "scrolled": true
   },
   "outputs": [
    {
     "data": {
      "text/plain": [
       "<matplotlib.axes._subplots.AxesSubplot at 0xba86c18>"
      ]
     },
     "execution_count": 109,
     "metadata": {},
     "output_type": "execute_result"
    },
    {
     "data": {
      "image/png": "[encoded data removed]",
      "text/plain": [
       "<matplotlib.figure.Figure at 0xba86198>"
      ]
     },
     "metadata": {},
     "output_type": "display_data"
    }
   ],
   "source": [
    "nesrece.groupby('petletka').size().plot(title = 'stevilo letalskih nesrec na petletko')"
   ]
  },
  {
   "cell_type": "markdown",
   "metadata": {},
   "source": [
    "Izrazito odstopa število letalskih nesreč v letih 2000-2005, do takrat pa je število približno enako."
   ]
  },
  {
   "cell_type": "markdown",
   "metadata": {},
   "source": [
    "### Letalske družbe"
   ]
  },
  {
   "cell_type": "markdown",
   "metadata": {},
   "source": [
    "Poglejmo, katere letalske družbe imajo največ nesreč."
   ]
  },
  {
   "cell_type": "code",
   "execution_count": 110,
   "metadata": {
    "collapsed": true
   },
   "outputs": [],
   "source": [
    "st_nesrec_glede_na_druzbo = nesrece.groupby('letalska_druzba')"
   ]
  },
  {
   "cell_type": "code",
   "execution_count": 111,
   "metadata": {
    "scrolled": false
   },
   "outputs": [
    {
     "data": {
      "text/plain": [
       "[Text(0,0.5,'stevilo_nesrec'), Text(0.5,0,'letalska_druzba')]"
      ]
     },
     "execution_count": 111,
     "metadata": {},
     "output_type": "execute_result"
    },
    {
     "data": {
      "image/png": "[encoded data removed]",
      "text/plain": [
       "<matplotlib.figure.Figure at 0xba21b70>"
      ]
     },
     "metadata": {},
     "output_type": "display_data"
    }
   ],
   "source": [
    "st_nesrec_glede_na_druzbo.count()[st_nesrec_glede_na_druzbo.count().leto>5]['leto'].plot(kind='bar').set(xlabel = 'letalska_druzba', ylabel='stevilo_nesrec')"
   ]
  },
  {
   "cell_type": "markdown",
   "metadata": {},
   "source": [
    "Na grafu je razvidno, katere letalske družbe so imele največje število nesreč, med njimi so Aerflot, ki je ruska, Air France, francoska, Pinnacle Airlines, ameriška, Aircraft registration pa je ime za skupino večih letalskih prevoznikov."
   ]
  },
  {
   "cell_type": "markdown",
   "metadata": {},
   "source": [
    "### Vzroki nesreč"
   ]
  },
  {
   "cell_type": "markdown",
   "metadata": {},
   "source": [
    "Poglejmo si najpogostejše vzroke letalskih nesreč. Potrebovali bomo korene besed iz opisa nesreče."
   ]
  },
  {
   "cell_type": "code",
   "execution_count": 112,
   "metadata": {
    "collapsed": true
   },
   "outputs": [],
   "source": [
    "def koren_besede(beseda):\n",
    "    beseda = ''.join(znak for znak in beseda if znak.isalpha())\n",
    "    if not beseda:\n",
    "        return '$'\n",
    "    konec = len(beseda) - 1\n",
    "    if beseda[konec] in 'ds':\n",
    "        konec -= 1\n",
    "    while konec >= 0 and beseda[konec] in 'aeiou':\n",
    "        konec -= 1\n",
    "    return beseda[:konec + 1]\n",
    "\n",
    "def koreni_besed(niz):\n",
    "    return pd.Series(list({\n",
    "        koren_besede(beseda) for beseda in niz.replace('-', ' ').lower().split() if beseda\n",
    "    }))\n",
    "\n",
    "def koreni_opisa(nizi):\n",
    "    return nizi[nizi.notnull()].apply(\n",
    "        koreni_besed\n",
    "    ).stack().reset_index(level=1, drop=True)\n"
   ]
  },
  {
   "cell_type": "markdown",
   "metadata": {},
   "source": [
    "Preštejmo ponovitve korenov besed v opisih."
   ]
  },
  {
   "cell_type": "code",
   "execution_count": 113,
   "metadata": {
    "collapsed": true
   },
   "outputs": [],
   "source": [
    "koreni = pd.DataFrame(koreni_opisa(nesrece.vzrok))"
   ]
  },
  {
   "cell_type": "code",
   "execution_count": 114,
   "metadata": {
    "collapsed": true
   },
   "outputs": [],
   "source": [
    "koreni['vzroki'] = koreni"
   ]
  },
  {
   "cell_type": "code",
   "execution_count": 115,
   "metadata": {
    "collapsed": true
   },
   "outputs": [],
   "source": [
    "def pojavitev_besed():\n",
    "    besede = {}\n",
    "    for beseda in list(koreni.vzroki):\n",
    "        if beseda in besede:\n",
    "            besede[beseda] += 1\n",
    "        else:\n",
    "            besede[beseda] = 1\n",
    "    return besede\n",
    "\n",
    "ponovitve_besed = pojavitev_besed()"
   ]
  },
  {
   "cell_type": "code",
   "execution_count": 116,
   "metadata": {},
   "outputs": [
    {
     "data": {
      "text/plain": [
       "{'': 4,\n",
       " '$': 7,\n",
       " 'accidental': 1,\n",
       " 'activation': 1,\n",
       " 'after': 11,\n",
       " 'aggravat': 1,\n",
       " 'air': 1,\n",
       " 'aircraft': 7,\n",
       " 'airliner': 1,\n",
       " 'amp': 1,\n",
       " 'an': 20,\n",
       " 'approach': 5,\n",
       " 'aroun': 1,\n",
       " 'atc': 1,\n",
       " 'attack': 1,\n",
       " 'attempt': 4,\n",
       " 'aviation': 1,\n",
       " 'awarenes': 1,\n",
       " 'b': 1,\n",
       " 'bir': 1,\n",
       " 'blad': 1,\n",
       " 'boar': 1,\n",
       " 'bomb': 1,\n",
       " 'bombing': 4,\n",
       " 'break': 4,\n",
       " 'by': 10,\n",
       " 'car': 1,\n",
       " 'carg': 1,\n",
       " 'catastrophic': 2,\n",
       " 'caus': 10,\n",
       " 'causing': 1,\n",
       " 'cfit': 6,\n",
       " 'climb': 1,\n",
       " 'clipp': 1,\n",
       " 'clos': 1,\n",
       " 'collaps': 3,\n",
       " 'collision': 3,\n",
       " 'company': 1,\n",
       " 'condition': 3,\n",
       " 'contamination': 4,\n",
       " 'control': 16,\n",
       " 'controll': 1,\n",
       " 'controller': 6,\n",
       " 'cowl': 2,\n",
       " 'crash': 12,\n",
       " 'crew': 4,\n",
       " 'crocodil': 1,\n",
       " 'd': 18,\n",
       " 'damag': 1,\n",
       " 'danger': 1,\n",
       " 'decompression': 2,\n",
       " 'deliberat': 1,\n",
       " 'detonat': 1,\n",
       " 'disappearanc': 1,\n",
       " 'disput': 4,\n",
       " 'ditching': 1,\n",
       " 'down': 6,\n",
       " 'drag': 2,\n",
       " 'during': 9,\n",
       " 'emergency': 2,\n",
       " 'engin': 29,\n",
       " 'error': 44,\n",
       " 'escap': 1,\n",
       " 'exces': 1,\n",
       " 'excessiv': 2,\n",
       " 'excursion': 1,\n",
       " 'explosion': 2,\n",
       " 'explosiv': 2,\n",
       " 'fail': 1,\n",
       " 'failur': 44,\n",
       " 'fatig': 2,\n",
       " 'faulty': 1,\n",
       " 'final': 2,\n",
       " 'fir': 13,\n",
       " 'first': 1,\n",
       " 'flameout': 12,\n",
       " 'flight': 15,\n",
       " 'fog': 3,\n",
       " 'follow': 5,\n",
       " 'following': 7,\n",
       " 'for': 3,\n",
       " 'forc': 1,\n",
       " 'front': 1,\n",
       " 'fuel': 3,\n",
       " 'g': 1,\n",
       " 'gear': 3,\n",
       " 'groun': 2,\n",
       " 'har': 2,\n",
       " 'hardover': 1,\n",
       " 'heavy': 2,\n",
       " 'hijacking': 1,\n",
       " 'hour': 1,\n",
       " 'hous': 1,\n",
       " 'ic': 4,\n",
       " 'imbalanc': 1,\n",
       " 'impact': 2,\n",
       " 'impacting': 1,\n",
       " 'improper': 2,\n",
       " 'in': 20,\n",
       " 'incapacitation': 1,\n",
       " 'inconclusiv': 6,\n",
       " 'incursion': 2,\n",
       " 'induc': 1,\n",
       " 'inflight': 1,\n",
       " 'instrument': 3,\n",
       " 'int': 3,\n",
       " 'investigation': 19,\n",
       " 'iss': 1,\n",
       " 'jungl': 1,\n",
       " 'l': 3,\n",
       " 'lack': 1,\n",
       " 'landing': 10,\n",
       " 'leading': 9,\n",
       " 'leak': 2,\n",
       " 'lift': 4,\n",
       " 'lightning': 2,\n",
       " 'loading': 1,\n",
       " 'los': 22,\n",
       " 'm': 1,\n",
       " 'mad': 1,\n",
       " 'main': 1,\n",
       " 'maintenanc': 4,\n",
       " 'mechanical': 6,\n",
       " 'metal': 2,\n",
       " 'mis': 1,\n",
       " 'misperception': 1,\n",
       " 'miss': 1,\n",
       " 'missil': 1,\n",
       " 'near': 2,\n",
       " 'negligenc': 1,\n",
       " 'obstruction': 1,\n",
       " 'of': 25,\n",
       " 'off': 1,\n",
       " 'oil': 1,\n",
       " 'on': 6,\n",
       " 'ongoing': 1,\n",
       " 'or': 2,\n",
       " 'over': 1,\n",
       " 'overloading': 3,\n",
       " 'overrun': 8,\n",
       " 'overshoot': 1,\n",
       " 'overweight': 1,\n",
       " 'packag': 1,\n",
       " 'papuan': 1,\n",
       " 'passenger': 1,\n",
       " 'pilot': 34,\n",
       " 'poor': 4,\n",
       " 'poorly': 1,\n",
       " 'port': 1,\n",
       " 'position': 1,\n",
       " 'possibl': 13,\n",
       " 'probably': 1,\n",
       " 'problem': 1,\n",
       " 'procedur': 1,\n",
       " 'propeller': 3,\n",
       " 'radar': 2,\n",
       " 'reason': 3,\n",
       " 'report': 1,\n",
       " 'rudder': 1,\n",
       " 'runway': 16,\n",
       " 'ruptur': 1,\n",
       " 'sank': 1,\n",
       " 'secon': 2,\n",
       " 'sensor': 1,\n",
       " 'separation': 6,\n",
       " 'sever': 3,\n",
       " 'shootdown': 2,\n",
       " 'shortly': 2,\n",
       " 'shot': 6,\n",
       " 'situational': 1,\n",
       " 'snowstorm': 1,\n",
       " 'soon': 1,\n",
       " 'stall': 17,\n",
       " 'starboar': 1,\n",
       " 'starvation': 1,\n",
       " 'static': 1,\n",
       " 'strik': 3,\n",
       " 'striking': 1,\n",
       " 'structur': 1,\n",
       " 'structural': 16,\n",
       " 'suffer': 1,\n",
       " 'suicid': 1,\n",
       " 'suspect': 4,\n",
       " 't': 31,\n",
       " 'tail': 1,\n",
       " 'tak': 1,\n",
       " 'takeoff': 11,\n",
       " 'tank': 1,\n",
       " 'tap': 1,\n",
       " 'tax': 1,\n",
       " 'technical': 1,\n",
       " 'temperatur': 1,\n",
       " 'terrain': 1,\n",
       " 'terrorist': 3,\n",
       " 'th': 4,\n",
       " 'thrust': 1,\n",
       " 'tr': 1,\n",
       " 'uncontain': 6,\n",
       " 'under': 18,\n",
       " 'undetermin': 9,\n",
       " 'unknown': 2,\n",
       " 'up': 3,\n",
       " 'visibility': 3,\n",
       " 'water': 2,\n",
       " 'weather': 6,\n",
       " 'weight': 2,\n",
       " 'which': 2,\n",
       " 'whil': 1,\n",
       " 'windshear': 1,\n",
       " 'wing': 7,\n",
       " 'with': 3,\n",
       " 'wreckag': 1,\n",
       " 'wrong': 1}"
      ]
     },
     "execution_count": 116,
     "metadata": {},
     "output_type": "execute_result"
    }
   ],
   "source": [
    "ponovitve_besed"
   ]
  },
  {
   "cell_type": "code",
   "execution_count": 117,
   "metadata": {},
   "outputs": [
    {
     "name": "stdout",
     "output_type": "stream",
     "text": [
      "failur 44\n",
      "error 44\n",
      "pilot 34\n",
      "t 31\n",
      "engin 29\n",
      "of 25\n",
      "los 22\n",
      "in 20\n",
      "an 20\n",
      "investigation 19\n",
      "d 18\n",
      "under 18\n",
      "stall 17\n",
      "structural 16\n",
      "control 16\n",
      "runway 16\n",
      "flight 15\n",
      "possibl 13\n",
      "fir 13\n",
      "crash 12\n",
      "flameout 12\n",
      "after 11\n",
      "takeoff 11\n",
      "landing 10\n",
      "by 10\n",
      "caus 10\n",
      "undetermin 9\n",
      "leading 9\n",
      "during 9\n",
      "overrun 8\n",
      "wing 7\n",
      "following 7\n",
      "aircraft 7\n",
      "$ 7\n",
      "on 6\n",
      "separation 6\n",
      "weather 6\n",
      "inconclusiv 6\n",
      "mechanical 6\n",
      "shot 6\n"
     ]
    }
   ],
   "source": [
    "from heapq import nlargest\n",
    "from operator import itemgetter\n",
    "\n",
    "for beseda, stevilo in nlargest(40, ponovitve_besed.items(), key=itemgetter(1)):\n",
    "    print (beseda, stevilo)"
   ]
  },
  {
   "cell_type": "markdown",
   "metadata": {},
   "source": [
    "Iz podatkov vidimo, da je najpogostejši vzrok prenehanje delovanja nekje na letalu, za tem so kakršne koli napake, problemi pri pristajanju. Tudi trčenje in požar sta med najpogostejšimi. Za mnogo nesreč še niso odkrili vzroka."
   ]
  },
  {
   "cell_type": "code",
   "execution_count": 118,
   "metadata": {},
   "outputs": [
    {
     "data": {
      "text/plain": [
       "5"
      ]
     },
     "execution_count": 118,
     "metadata": {},
     "output_type": "execute_result"
    }
   ],
   "source": [
    "ponovitve_besed[koren_besede('bomb')]+ponovitve_besed[koren_besede('suicide')]+ponovitve_besed[koren_besede('terrorist')]"
   ]
  },
  {
   "cell_type": "markdown",
   "metadata": {},
   "source": [
    "Po izračunu vidimo, da teroristični napad ni pogost vzrok letalskih nesreč, saj je bilo takih primerov le 5.\n",
    "Poglejmo, če enako velja za vremenske razmere."
   ]
  },
  {
   "cell_type": "code",
   "execution_count": 119,
   "metadata": {},
   "outputs": [
    {
     "data": {
      "text/plain": [
       "8"
      ]
     },
     "execution_count": 119,
     "metadata": {},
     "output_type": "execute_result"
    }
   ],
   "source": [
    "ponovitve_besed[koren_besede('weather')]+ponovitve_besed[koren_besede('lightning')]"
   ]
  },
  {
   "cell_type": "markdown",
   "metadata": {},
   "source": [
    "Takih je bilo 8, verjetno jih je blio veliko več, vendar pri vsaki letalski nesreči zraven ni bilo podanega vzroka."
   ]
  },
  {
   "cell_type": "markdown",
   "metadata": {},
   "source": []
  }
 ],
 "metadata": {
  "kernelspec": {
   "display_name": "Python 3",
   "language": "python",
   "name": "python3"
  },
  "language_info": {
   "codemirror_mode": {
    "name": "ipython",
    "version": 3
   },
   "file_extension": ".py",
   "mimetype": "text/x-python",
   "name": "python",
   "nbconvert_exporter": "python",
   "pygments_lexer": "ipython3",
   "version": "3.6.3"
  }
 },
 "nbformat": 4,
 "nbformat_minor": 2
}
